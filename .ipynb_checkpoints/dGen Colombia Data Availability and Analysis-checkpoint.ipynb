{
 "cells": [
  {
   "cell_type": "code",
   "execution_count": null,
   "metadata": {},
   "outputs": [],
   "source": [
    "from IPython.display import display, Markdown\n",
    "\n",
    "import colombia_data_functions as cdf\n",
    "\n",
    "import matplotlib.pyplot as plt\n",
    "import matplotlib\n",
    "import matplotlib.colors as mcolors\n",
    "import numpy as np\n",
    "import folium\n",
    "import pandas as pd\n",
    "import seaborn as sns\n",
    "\n",
    "import warnings\n",
    "warnings.filterwarnings(\"ignore\")\n",
    "\n",
    "#function to read, process, and clean up csvs to dataframes\n",
    "sui_data = cdf.load_sui_data_from_csv()"
   ]
  },
  {
   "cell_type": "markdown",
   "metadata": {},
   "source": [
    "## Introduction\n",
    "\n",
    "The purpose of this notebook is to update key stakeholders (USAID, UPME, XM, etc.) on the progress that NREL has made in collecting data for dGen Colombia and to inspire further conversation on the validity of the collected data sources and other data requirements. \n",
    "\n",
    "__[The Distributed Generation Market Demand Model (dGen)](https://www.nrel.gov/analysis/dgen/)__ is designed to forecast the customer economics of solar PV adoption under various scenarios of incentives and rates. For example, we can forecast which customers will adopt rooftop PV under scenarios like the reduction of rate-subsidization in Colombia, or who will adopt PV if a net-metering scheme is introduced. dGen is well-established for modeling distributed PV capacity in the U.S. and we’ve applied the model to other countries like Mexico as well. \n",
    "\n",
    "USAID has tasked NREL with modeling distributed PV adoption under various scenarios in Colombia––this will help UPME with long-term capacity planning for renewables. In order to continue the momentum from last month’s workshop, we think it’s important to host this call to review some basic assumptions for the model. This will enable us to provide UPME with prompt and accurate results.  \n",
    "\n",
    "This notebook is based around a core set of python functions (`colombia_data_functions.py`), although non-technical users should still be able to follow-along by studying the maps and visualizations provided. \n",
    "\n",
    "## Data Sources\n",
    "Ideally, input from key stakeholders like UPME and XM will lead to a strong collaborative relationship. Through this relationship, proprietary data could be provided through an NDA or other mechanism in order to provide better data for modeling. Additionally, stakeholder input in the modeling process can lead to better results through the testing of scenarios most relevant to UPME. However, until this point little connection with UPME has been made, leaving the NREL team to collect data from publicaly available open data sources. \n",
    "\n",
    "After much searching on the internet, we've comiled this preliminary list of datasources:\n",
    "\n",
    "| Data | Source | Granularity | Link | Notes |\n",
    "| --- | --- | --- | --- | --- |\n",
    "| __2018 Subscribers (Subscriptores)__ | SUI | By Departamento, Municipio, Land Type (Urban, Rural, etc.), Tariff Class (Estrato 1-6, Comercial, Industrial, Oficial), and Utility | www.sui.gov.co/web/energia/reportes/comerciales/consolidado-energia-por-empresa-departamento-y-municipio | Can't access from outside Colombia |\n",
    "| __2018 Consumption (Consumo)__ | SUI | By Departamento, Municipio, Land Type (Urban, Rural, etc.), Tariff Class (Estrato 1-6, Comercial, Industrial, Oficial), and Utility | www.sui.gov.co/web/energia/reportes/comerciales/consolidado-energia-por-empresa-departamento-y-municipio | Can't access from outside Colombia |\n",
    "| __2018 Average Bill (Factura Promedio)__ | SUI | By Departamento, Municipio, Land Type (Urban, Rural, etc.), Tariff Class (Estrato 1-6, Comercial, Industrial, Oficial), and Utility | www.sui.gov.co/web/energia/reportes/comerciales/consolidado-energia-por-empresa-departamento-y-municipio | Can't access from outside Colombia |\n",
    "| __2018 Average Rate (Tarifa Media)__ | SUI | By Departamento, Municipio, Land Type (Urban, Rural, etc.), Tariff Class (Estrato 1-6, Comercial, Industrial, Oficial), and Utility | www.sui.gov.co/web/energia/reportes/comerciales/consolidado-energia-por-empresa-departamento-y-municipio | Can't access from outside Colombia |\n",
    "| __Current Tariff (Costos Máximos Aplicables)__ | SUI | Appears to be complete rate structure by utility| www.sui.gov.co/web/energia/reportes/comerciales/costos-maximos-aplicables | Can't access from outside Colombia; Unsure if we're interpreting this correctly |\n",
    "| __Demand Data (Costos Máximos Aplicables)__ | XM (Informacion Inteligente)| 8760 for each utility _total demand_.| http://informacioninteligente10.xm.com.co/pages/default.aspx | Not disagregatted by sector or location |\n",
    "| __Solar Irradiation__ | Renewable Energy Data Explorer| Muliple types of 8760s (horizontal, tracking, fixed)| https://maps.nrel.gov/rede-colombia/ | None |\n",
    "\n",
    "\n",
    "#### If there are better data sources we can be using (particularly for demand or load data!) please let us know.\n",
    "\n",
    "## Functions\n",
    "Detailed documentation for functions in `colombia_data_functions.py` can be found in the files docstrings. These functions __do not__ create the agents that will be used by dGen, but these functions do clean and process data that will be used in the generation of agents."
   ]
  },
  {
   "cell_type": "markdown",
   "metadata": {},
   "source": [
    "## Exploratory Data Analysis\n",
    "\n",
    "\n",
    "### Subscribers Data:\n",
    "The start our analysis of collected data, the first thing we want to look at is the number of subscribers by Departamento. This will produce an interactive map where we can select the sector in a legend. Shading is determined by percentile to represent the number of subscribers in an area. \n",
    "\n",
    "Clicking on a Departamento in the map will reveal the number of subscribers within that area. "
   ]
  },
  {
   "cell_type": "code",
   "execution_count": null,
   "metadata": {},
   "outputs": [],
   "source": [
    "sub_data_dept = cdf.data_grouper(sui_data['Suscriptores'], level = 'Departamento')\n",
    "sub_sector_dept_map = cdf.mapper(sub_data_dept,\n",
    "                                  columns = 'sec_columns',\n",
    "                                  level = 'Departamento')\n",
    "display(Markdown(\"#### Number of Subscribers by Sector / Departamento\"))\n",
    "sub_sector_dept_map #calling map object to disply html"
   ]
  },
  {
   "cell_type": "code",
   "execution_count": null,
   "metadata": {},
   "outputs": [],
   "source": [
    "display(Markdown(\"#### Number of Subscribers by Tariff Class / Departamento\"))\n",
    "sub_data_dept"
   ]
  },
  {
   "cell_type": "markdown",
   "metadata": {},
   "source": [
    "Take note that while data appears to be complete for interconnected areas, non-interconnected Departamentos (i.e. Amazonas, etc.) are not included in this dataset, although they represent a small portion of overall subscribers and load. If it is desired to model these areas, data including the number of subscribers and annual consumption will need to be provided.\n",
    "\n",
    "### Consumption Data:\n",
    "Next, we want to look at the level of consumption by Departamento. Consumption is aggregated across the entire year of 2018 by Departamento. This will produce an interactive map where we can select the sector in a legend, because consumption in a Departamento is highly correlated with the number of subscribers, this map will look extremely similar to the Subscribers map above. \n",
    "\n",
    "Still, both Consumption data and the number of subscribers will be important data points for dGen. "
   ]
  },
  {
   "cell_type": "code",
   "execution_count": null,
   "metadata": {},
   "outputs": [],
   "source": [
    "consumption_data_dept = cdf.data_grouper(sui_data['Consumo'], level = 'Departamento')\n",
    "consumption_sector_dept_map = cdf.mapper(consumption_data_dept,\n",
    "                                      columns = 'sec_columns',\n",
    "                                      level = 'Departamento')\n",
    "display(Markdown(\"#### Total Annual Consumption by Sector / Departamento\"))\n",
    "consumption_sector_dept_map #calling map object to disply html"
   ]
  },
  {
   "cell_type": "code",
   "execution_count": null,
   "metadata": {
    "scrolled": false
   },
   "outputs": [],
   "source": [
    "display(Markdown(\"#### GWh of Consumption by Tariff Class / Departamento\"))\n",
    "GWh_consumption_data_dept = consumption_data_dept[consumption_data_dept.columns[1:]] / 1000000\n",
    "GWh_consumption_data_dept = pd.concat([consumption_data_dept[['Departamento']], GWh_consumption_data_dept], axis = 'columns')\n",
    "GWh_consumption_data_dept"
   ]
  },
  {
   "cell_type": "markdown",
   "metadata": {},
   "source": [
    "Based on this output, we can see that consumption is concentrated in urban areas across Colombia, although there are some sectoral discrepancies. For instance, comerical load is high in _Meta_ (the Departamento south of Bogota) and _Antioquia_ (the Departamento containing Medellin) and _Cundinmaraca_ (the Departamento surrounding Bogota) have high levels of industrial consumption. \n",
    "\n",
    "The complete dataset available from SUI includes data at the Municipio granularity, the same sectoral data from above is visualized below at the Municipio level. "
   ]
  },
  {
   "cell_type": "code",
   "execution_count": null,
   "metadata": {
    "scrolled": false
   },
   "outputs": [],
   "source": [
    "# consumption_data_muni = cdf.data_grouper(sui_data['Consumo'], level = 'Municipio')\n",
    "# consumption_sector_muni_map = cdf.mapper(consumption_data_muni,\n",
    "#                                       columns = 'sec_columns',\n",
    "#                                       level = 'Municipio')\n",
    "# display(Markdown(\"#### Total Annual Consumption by Sector / Municipio\"))\n",
    "# consumption_sector_muni_map"
   ]
  },
  {
   "cell_type": "markdown",
   "metadata": {},
   "source": [
    "The granularity of this dataset is impressive––there are some 1000+ Municipios in Colombia and we now have total consumption, total subscribers, average consumption, and average rate data for each. \n",
    "\n",
    "If each agent is asigned a Municipio as its geography, a baseline of 1000 agents is a good start. For comparison, the deployment of dGen Mexico operated at the control region level (~10). \n",
    "\n",
    "Other features that can potentially be used to further disagregate agents, including Sector, rate class, land type, and utility (Empresa). \n",
    "\n",
    "Let's start examining some of these different features to see which are useful for disaggregating the data further. A useful feature will provide significant variation in terms of consumption patterns at the Municipio level.\n",
    "\n",
    "### Estrato:\n",
    "Below, we'll look at the six different residential rate classes (Estrato 1 - 6). Each represents a different level of cross-subsidization provided to residential subscribers. Estrato 1 - 3 are receiving subsidization, Estrato 4 is paying real cost of generation The map below will help us understand if the _Average Subscribers Total Consumption_ varies based on the Estrato level they are subscribed to. We can test this by selecting the different layers available in the legend and comparing them.\n",
    "\n",
    "For the sake of simplicity, we'll map this data at the Departamento level, although we likely will be using this data at the Municipio level. "
   ]
  },
  {
   "cell_type": "code",
   "execution_count": null,
   "metadata": {
    "scrolled": false
   },
   "outputs": [],
   "source": [
    "consumprom_data_dept = cdf.data_grouper(sui_data['Consumo Promedio'], level = 'Departamento', func = 'mean')\n",
    "consumprom_estrata_dept_map = cdf.mapper(consumprom_data_dept,\n",
    "                                      columns = 'estrata_columns',\n",
    "                                      level = 'Departamento')\n",
    "display(Markdown(\"#### Annual Average Residential Consumption by Estrato / Departamento\"))\n",
    "consumprom_estrata_dept_map"
   ]
  },
  {
   "cell_type": "markdown",
   "metadata": {},
   "source": [
    "Clearly Estrato 5 - 6 are concentrated in urban areas and have different consumption patterns than other levels. As the choropleth maps don't provide the relative values for each shade, we will print these below. "
   ]
  },
  {
   "cell_type": "code",
   "execution_count": null,
   "metadata": {},
   "outputs": [],
   "source": [
    "consum_dept = cdf.data_grouper(sui_data['Consumo'], level = 'Departamento', func = 'sum')\n",
    "consum_dept_grouped = consum_dept[[f'Estrato {i}' for i in range(1,7)] + ['Comercial', 'Industrial', 'Oficial']].T.sum(axis = 1)\n",
    "consum_dept_grouped.name = 'consumption'\n",
    "sub_dept = cdf.data_grouper(sui_data['Suscriptores'], level = 'Departamento', func = 'sum')\n",
    "sub_dept_grouped = sub_dept[[f'Estrato {i}' for i in range(1,7)] + ['Comercial', 'Industrial', 'Oficial']].T.sum(axis = 1)\n",
    "sub_dept_grouped.name = 'subscribers'\n",
    "\n",
    "estrato_sus_and_con = pd.concat([consum_dept_grouped, sub_dept_grouped], axis = 'columns')\n",
    "estrato_sus_and_con['average consumption (kWh)'] = estrato_sus_and_con['consumption'] / estrato_sus_and_con['subscribers']\n",
    "\n",
    "to_plot = estrato_sus_and_con.loc[estrato_sus_and_con.index.isin([f'Estrato {i}' for i in range(1,7)])]\n",
    "to_plot['average consumption (kWh)'].plot.bar(rot = 45,\n",
    "                                              title = 'Average Annual Consumption per Subscriber by Estrato')\n",
    "\n",
    "estrato_sus_and_con"
   ]
  },
  {
   "cell_type": "markdown",
   "metadata": {},
   "source": [
    "Estrato 6 has close to double the average annual consumption of Estratos 1 - 4. However the relationship between consumption and Estrato is not linear, as Estrato 1 has a higher annual consumption than Estrato 2 and Estrato 6 is significantly higher than even Estrato 5. \n",
    "\n",
    "The nine different tariff classes (Estrato 1 - 6, Comercial, Industrial, Oficial) will be useful features in predicting the variability of agents. Likewise, agents can exist for each rate class for each of the 1000+ agents, resulting in around 9000+ agents. \n",
    "\n",
    "### Land Type:\n",
    "\n",
    "Another consideration mentioned above is disaggregating agents by land-type. The SUI dataset includes consumption and subscribes data divided by Urban, Rural, and Centro Poblado land types. However, it's not immediately clear whether Departamentos or Municipios are already small enough to only contain a single land type, or if some Municipios contain numerous land types. \n",
    "\n",
    "First, let's look at what percentage of national total load comes from each land type:"
   ]
  },
  {
   "cell_type": "code",
   "execution_count": null,
   "metadata": {},
   "outputs": [],
   "source": [
    "land_type_df = cdf.land_type_aggregator(sui_data['Consumo'])\n",
    "land_type_pct = land_type_df.groupby(['Departamento']).sum()\n",
    "total_consumption = sum([land_type_df[i].sum() for i in ['Urbano','Rural','Centro Poblado']])\n",
    "\n",
    "land_type_pct['Urbano'] = land_type_pct['Urbano'] / total_consumption\n",
    "land_type_pct['Rural'] = land_type_pct['Rural'] / total_consumption\n",
    "land_type_pct['Centro Poblado'] = land_type_pct['Centro Poblado'] / total_consumption\n",
    "\n",
    "total_land_type_pct = pd.Series([land_type_pct[i].sum() for i in ['Urbano', 'Rural', 'Centro Poblado']], index = ['Urbano','Rural','Centro Poblado'])\n",
    "display(Markdown(\"#### Percentage of National Consumption by Land Type\"))\n",
    "total_land_type_pct"
   ]
  },
  {
   "cell_type": "markdown",
   "metadata": {},
   "source": [
    "86.4% of all consumption is Urban, and 13.3% is Rural. Centro Poblado (translated to city center) is an extremely small 0.2% of consumption. \n",
    "\n",
    "Because such a large majority of consumption is urban, it likely doesn't make sense to create agent based on land type in addition to Municipio, unless there are several notable examples where-in there is a significant split of Urban and Rural consumption within a Municipio. \n",
    "\n",
    "Below, the percentage of total national load by land type and Departamento is listed."
   ]
  },
  {
   "cell_type": "code",
   "execution_count": null,
   "metadata": {},
   "outputs": [],
   "source": [
    "display(Markdown(\"#### Percentage of National Consumption by Land Type / Departamento\"))\n",
    "land_type_pct"
   ]
  },
  {
   "cell_type": "markdown",
   "metadata": {},
   "source": [
    "Antioquio (which contains Medellin) and Cundinamarca (which contains suburbs of Bogota) are the only two Departamentos with single-digit percentages of both Rural and Urban consumption. The entire list of Municipios is too long to display in this notebook, but it's clear that Municipios in Antioquio and Cundinamarca are segregated between Rural and Urban dominance. \n",
    "\n",
    "It's unclear why Putumayo-Rural and Guaviare-Urban have negative consumption values. This could be an error in the data, or due to existing distributed generation? Further clarification on this is needed.\n",
    "\n",
    "It does not appear that generating different agents for Urban and Rural consumption within a Municipio will add additional value to the model. However, this data could be useful when determining the load profiles for agents at the Municipio level. \n",
    "\n",
    "### Tariffs:\n",
    "The SUI database also includes data on the average electricity rate paid by each tariff class in each utility/Municipio territory. It is not clear if ratepayers in Colombia pay a flat energy charge, or have additional bill components such as a demand charge, metering charge, or distribution charge. If these components do exist, it's unclear if the 'Tarifa Media' includes these on an average per kWh basis, or if they have otherwise been accounted for. \n",
    "\n",
    "The map below shows the average tariff for every Municipio. "
   ]
  },
  {
   "cell_type": "code",
   "execution_count": null,
   "metadata": {
    "scrolled": false
   },
   "outputs": [],
   "source": [
    "tariff_data_dept = cdf.data_grouper(sui_data['Tarifa Media'], level = 'Departamento', func = 'mean')\n",
    "tariff_all_dept_map = cdf.mapper(tariff_data_dept,\n",
    "                                      columns = 'all_columns',\n",
    "                                      level = 'Departamento')\n",
    "display(Markdown(\"#### Annual Average Tariff paid ($/kWh) by Rate Class / Departamento\"))\n",
    "tariff_all_dept_map"
   ]
  },
  {
   "cell_type": "markdown",
   "metadata": {},
   "source": [
    "The results of examining this data do not make sense, in almost every Departamento the _Tarifa Media_ is lower for Estrato 5 and 6 than for Estratos 1-4. For instance, in Bogota Estrato 6 paid an average of 475.40 \\$/kWh in 2018, while Estrato 1 paid 491.54 \\$/kWh. \n",
    "\n",
    "The swarmplot below visualizes the puzzling trend the SUI _Tarifa Media_, showing that retail tariffs appear to be decreasing as the Estrato increases. "
   ]
  },
  {
   "cell_type": "code",
   "execution_count": null,
   "metadata": {
    "scrolled": true
   },
   "outputs": [],
   "source": [
    "display(Markdown(\"#### Bogota Average Tariff paid ($/kWh) from Tarifa Media Data\"))\n",
    "tariff_data_dept.loc[tariff_data_dept['Departamento'] == 'BOGOTA']"
   ]
  },
  {
   "cell_type": "code",
   "execution_count": null,
   "metadata": {},
   "outputs": [],
   "source": [
    "tariff_data_dept = cdf.data_grouper(sui_data['Tarifa Media'], level = 'Departamento', func = 'mean')\n",
    "tariff_melt_dept = pd.melt(tariff_data_dept, id_vars = ['Departamento'], value_vars = [f\"Estrato {i}\" for i in range (1, 7)] + ['Comercial','Industrial'])\n",
    "tariff_melt_dept = tariff_melt_dept.loc[tariff_melt_dept['value'] > 0] #deal with a few weird outliers with a negative tariff\n",
    "fig, ax = plt.subplots(figsize=(8,4))\n",
    "display(Markdown(\"#### Swarmplot of Average Tariff paid ($/kWh) by Rate Class / Departamento\"))\n",
    "sns.swarmplot(x = 'variable', y = 'value', data = tariff_melt_dept, ax = ax)\n",
    "ax.set(ylabel = '$/kWh', xlabel = 'Rate Class')"
   ]
  },
  {
   "cell_type": "markdown",
   "metadata": {},
   "source": [
    "It's unclear where this error is coming from, although it is possible we are misinterpreting what _Tarifa Media_ means or the subsidy afforded to Estrato 1-3 is being incorporated into the rate in some other way. In either case, we will likely need to find a better data source containing the real energy rates in addition to any fixed charges for each Utility, Municipio, and rate class.\n",
    "\n",
    "In an effort to double-check the apparent error in the SUI _Tarifa Media_ data, we tried dividing the total consumption (_Consumo_) data by the total amount charged by the utility _Total Facturado_ for each Municipio/Utility/Land Type combination. "
   ]
  },
  {
   "cell_type": "code",
   "execution_count": null,
   "metadata": {},
   "outputs": [],
   "source": [
    "test_tariff = sui_data['Consumo'].merge(sui_data['Total Facturado'], on = ['Departamento','Municipio','Empresa','land_type'], suffixes = ['_consumo','_facturado'])\n",
    "for i in [f\"Estrato {j}\" for j in range (1, 7)] + ['Comercial','Industrial','Oficial','Total Residencial','Total No Residencial']:\n",
    "    test_tariff[f\"{i}_average_rate\"] = test_tariff[f\"{i}_facturado\"] / test_tariff[f\"{i}_consumo\"]\n",
    "\n",
    "test_tariff = test_tariff[['Departamento','Municipio','Empresa','land_type'] + [i for i in test_tariff.columns if '_average_rate' in i]]\n",
    "test_tariff_grouped = cdf.data_grouper(test_tariff, level = 'Departamento', land_type = 'Total', func = 'mean')\n",
    "display(Markdown(\"#### Bogota Average Tariff paid ($/kWh) from Self Calculated Data\"))\n",
    "test_tariff_grouped.loc[test_tariff_grouped['Departamento'] == 'BOGOTA']"
   ]
  },
  {
   "cell_type": "markdown",
   "metadata": {},
   "source": [
    "Identical rates were found, indicating that the _Tarif Media_ dataset was most likely calculated by SUI in the same way.\n",
    "\n",
    "### Demand Profiles\n",
    "For each agent dGen requires an 8760 (one year of hourly data) of load or demand data. Ideally, UPME could provide observed data from several representative customers. Having a different Demand Profile for each Municipio/Rate combination, or at least for each Empresa/Rate combination would be sufficient. \n",
    "\n",
    "Absent this granular data, we've received a collection of 8760s from XM's _Informacion Intelligente_ portal. This data consists of an 8760 of total demand (measured in kW) for each utility in Colombia. "
   ]
  },
  {
   "cell_type": "code",
   "execution_count": null,
   "metadata": {},
   "outputs": [],
   "source": [
    "consumo = sui_data['Consumo']\n",
    "demand_melt_df = cdf.demand_8760_getter(input_codes = list(set(consumo['Empresa'])))\n",
    "demand_melt_df_grouped = demand_melt_df.groupby(['Empresa','Fecha','hour'], as_index = False).sum()\n",
    "\n",
    "fig, ax = plt.subplots(figsize = (16,8))\n",
    "display(Markdown(\"#### Average Daily Demand Profile Based on 2018 8760 For Each Empresa\"))\n",
    "sns.lineplot('hour','demand', hue = 'Empresa', data = demand_melt_df_grouped, ax = ax, legend = False, alpha = 0.5)\n",
    "ax.set(xlabel = 'Hourly Demand', ylabel = 'MW')"
   ]
  },
  {
   "cell_type": "markdown",
   "metadata": {},
   "source": [
    "The plot above shows the average daily demand profile for each utility tracked by XM. There is a clear diversity in the size of utilities: there are a handful of large utilities that have an enormous peak demand and a large number of smaller utilities. \n",
    "\n",
    "This dataset does not account for differences in rate class as most utilities represent a blend of different consumer types. It does not make sense to map this data on the utility level to individual agents at the Municipio level as demand profiles have a large discrepency in volume between utilities.\n",
    "\n",
    "Ideally, an entity like UPME can provide specific demand profiles for each Municipio and rate class. This dataset could be measured meter data based on actual observations, or representative statistical models. \n",
    "\n",
    "Without this data, an alternative approach is to derive demand profiles for each rate class based on deviations in the percentage of consumption by rate class in each utility. For example, if Utility X provides electricity primarily to commercial customers, than it's load profile is likely somewhat representative of all commercial customers in Colombia. Likewise, if Utility Y provides electricity primarily to Estrato 1 customers, it's demand profile can be inputted for all Estrato 1 agents. "
   ]
  },
  {
   "cell_type": "code",
   "execution_count": null,
   "metadata": {
    "scrolled": false
   },
   "outputs": [],
   "source": [
    "pctdf, mean_demand_df = cdf.mean_8760_getter(df = consumo, demand_melt_df = demand_melt_df)\n",
    "pctdf = pctdf.drop(['Unnamed: 0', 'year'], axis = 'columns')\n",
    "display(Markdown(\"#### Percentage of Consumption by Rate Class for Each Empresa\"))\n",
    "pctdf"
   ]
  },
  {
   "cell_type": "markdown",
   "metadata": {},
   "source": [
    "The above chart shows that some Empresas _do_ serve a disproportionately high amount of load from a single rate class. For instance, utilities _EVSD_, _EBPD_, _EDPD_, and _EGVD_ each provide over 50% of their consumption to Estrato 1 customers. Conversely, _CCOC_, _GECC_, _ITLC_, and _ISGC_ are single purpose utilities (possibly non-commercial) that only provide power to industrial customers. \n",
    "\n",
    "Using this data, we can select the 5 utilities that provide the largest share of their load to a particular rate class and then average their annual demand profiles to get a sampled demand profile for a given class. In order to deal with utilities of different sizes, we first scale every utilities demand profile to an equal volume of demand. \n",
    "\n",
    "The plot below displays the average day for each generated demand profile by rate class. "
   ]
  },
  {
   "cell_type": "code",
   "execution_count": null,
   "metadata": {},
   "outputs": [],
   "source": [
    "mean_demand_df.loc[mean_demand_df['Tariff'].isin([f\"Estrato {j}\" for j in range (1, 7)] + ['Comercial','Industrial','Oficial','Otros'])]\n",
    "display(Markdown(\"#### Calculated Average Daily Demand Profile Based For Each Rate Class\"))\n",
    "fig, ax = plt.subplots(figsize = (16,8))\n",
    "sns.lineplot(x = 'hour', y = 'demand_scaled', hue = 'Tariff', alpha = 0.5, data = mean_demand_df)"
   ]
  },
  {
   "cell_type": "markdown",
   "metadata": {},
   "source": [
    "This seems to have worked quite well. For instance, the 'Oficial' rate has a sharp increase starting in the morning around 8 A.M., and a relatively sharp decrease in consumption in the evening. There's even a notable mid-day decrease in Oficial consumption around the noon - 2 P.M. lunch hour. \n",
    "\n",
    "The generated industrial demand profile is relatively flat, and Comercial is generally flatter than any of the residential rates. \n",
    "\n",
    "Each Estrato of Residencial rate is relatively similar, although there is some mid-day difference. Estrato 1 also has an extremely sharp increase at 10 p.m., which deserves further scrutiny. Although this sharp increase appears to be present even if the sampling size of averaged demand profiles is increased above 5. \n",
    "\n",
    "\n",
    "\n",
    "## Conclusion\n",
    "\n",
    "Based on available data, it makes sense to model agents for dGen at the Municipio/Rate Class level, resulting in approximately 30,000 agents. \n",
    "\n",
    "The data we've collected from publicly available sources is enough to begin modeling dGen Colombia, _However_ the modeling process should be approached as a collaboration between all parties. It is important to get buy-in from key stakeholders such as UPME and XM who would likely benefit greatly from using the results provided by dGen. Therefor, it is imperative to the success of this project that communication channels are established between NREL and UPME to facilitate approval of data sources and the desired modeling scenarios. \n",
    "\n",
    "### Next Steps:\n",
    "-  NREL and UPME should host a call, facilitated by USAID to discuss these preliminary findings, review available data sources, and discuss modeling requirements. \n",
    "-  If UPME is unresponsive, or is able to confirm the validity of the data outlined in this notebook, NREL can proceed with modeling based on this available data, and can update the input data once preliminary results can be presented to UPME. "
   ]
  },
  {
   "cell_type": "code",
   "execution_count": null,
   "metadata": {},
   "outputs": [],
   "source": []
  }
 ],
 "metadata": {
  "kernelspec": {
   "display_name": "Python 3",
   "language": "python",
   "name": "python3"
  },
  "language_info": {
   "codemirror_mode": {
    "name": "ipython",
    "version": 3
   },
   "file_extension": ".py",
   "mimetype": "text/x-python",
   "name": "python",
   "nbconvert_exporter": "python",
   "pygments_lexer": "ipython3",
   "version": "3.6.5"
  }
 },
 "nbformat": 4,
 "nbformat_minor": 2
}
